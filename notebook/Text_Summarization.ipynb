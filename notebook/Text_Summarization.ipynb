{
 "cells": [
  {
   "cell_type": "markdown",
   "id": "9c66e871",
   "metadata": {
    "papermill": {
     "duration": 0.030907,
     "end_time": "2022-01-23T09:06:56.263633",
     "exception": false,
     "start_time": "2022-01-23T09:06:56.232726",
     "status": "completed"
    },
    "tags": []
   },
   "source": [
    "# Import Libraries"
   ]
  },
  {
   "cell_type": "markdown",
   "id": "e558d8e9",
   "metadata": {
    "papermill": {
     "duration": 0.031079,
     "end_time": "2022-01-23T09:06:56.325317",
     "exception": false,
     "start_time": "2022-01-23T09:06:56.294238",
     "status": "completed"
    },
    "tags": []
   },
   "source": []
  },
  {
   "cell_type": "code",
   "execution_count": 1,
   "id": "6c50b69b",
   "metadata": {
    "execution": {
     "iopub.execute_input": "2022-01-23T09:06:56.401836Z",
     "iopub.status.busy": "2022-01-23T09:06:56.40129Z",
     "iopub.status.idle": "2022-01-23T09:07:02.704014Z",
     "shell.execute_reply": "2022-01-23T09:07:02.70336Z",
     "shell.execute_reply.started": "2022-01-23T09:00:02.497801Z"
    },
    "papermill": {
     "duration": 6.346845,
     "end_time": "2022-01-23T09:07:02.70417",
     "exception": false,
     "start_time": "2022-01-23T09:06:56.357325",
     "status": "completed"
    },
    "tags": []
   },
   "outputs": [
    {
     "name": "stderr",
     "output_type": "stream",
     "text": [
      "D:\\Python\\Python36\\lib\\site-packages\\numpy\\_distributor_init.py:32: UserWarning: loaded more than 1 DLL from .libs:\n",
      "D:\\Python\\Python36\\lib\\site-packages\\numpy\\.libs\\libopenblas.PYQHXLVVQ7VESDPUVUADXEVJOBGHJPAY.gfortran-win_amd64.dll\n",
      "D:\\Python\\Python36\\lib\\site-packages\\numpy\\.libs\\libopenblas.WCDJNK7YVMPZQ2ME2ZZHJJRJ3JIKNDB7.gfortran-win_amd64.dll\n",
      "  stacklevel=1)\n",
      "[nltk_data] Downloading package wordnet to\n",
      "[nltk_data]     C:\\Users\\iamsa\\AppData\\Roaming\\nltk_data...\n",
      "[nltk_data]   Package wordnet is already up-to-date!\n",
      "[nltk_data] Downloading package stopwords to\n",
      "[nltk_data]     C:\\Users\\iamsa\\AppData\\Roaming\\nltk_data...\n",
      "[nltk_data]   Unzipping corpora\\stopwords.zip.\n",
      "[nltk_data] Downloading package punkt to\n",
      "[nltk_data]     C:\\Users\\iamsa\\AppData\\Roaming\\nltk_data...\n",
      "[nltk_data]   Package punkt is already up-to-date!\n",
      "D:\\Python\\Python36\\lib\\site-packages\\requests\\__init__.py:104: RequestsDependencyWarning: urllib3 (1.26.9) or chardet (5.0.0)/charset_normalizer (2.0.12) doesn't match a supported version!\n",
      "  RequestsDependencyWarning)\n"
     ]
    }
   ],
   "source": [
    "#import all the required libraries\n",
    "import numpy as np\n",
    "import pandas as pd\n",
    "import pickle\n",
    "from statistics import mode\n",
    "import nltk\n",
    "from nltk import word_tokenize\n",
    "from nltk.stem import LancasterStemmer\n",
    "nltk.download('wordnet')\n",
    "nltk.download('stopwords')\n",
    "nltk.download('punkt')\n",
    "from nltk.corpus import stopwords\n",
    "from tensorflow.keras.models import Model\n",
    "from tensorflow.keras import models\n",
    "from tensorflow.keras import backend as K\n",
    "from tensorflow.keras.preprocessing.sequence import pad_sequences\n",
    "from tensorflow.keras.preprocessing.text import Tokenizer \n",
    "from tensorflow.keras.utils import plot_model\n",
    "from tensorflow.keras.layers import Input,LSTM,Embedding,Dense,Concatenate,Attention\n",
    "from sklearn.model_selection import train_test_split\n",
    "from bs4 import BeautifulSoup\n",
    "\n",
    "import warnings\n",
    "pd.set_option(\"display.max_colwidth\", 200)\n",
    "warnings.filterwarnings(\"ignore\")\n",
    "\n",
    "from tensorflow.keras.callbacks import EarlyStopping"
   ]
  },
  {
   "cell_type": "code",
   "execution_count": null,
   "id": "a0ac5cb0",
   "metadata": {
    "papermill": {
     "duration": 0.03153,
     "end_time": "2022-01-23T09:07:02.767714",
     "exception": false,
     "start_time": "2022-01-23T09:07:02.736184",
     "status": "completed"
    },
    "tags": []
   },
   "outputs": [],
   "source": []
  },
  {
   "cell_type": "markdown",
   "id": "48299674",
   "metadata": {
    "papermill": {
     "duration": 0.030872,
     "end_time": "2022-01-23T09:07:02.829941",
     "exception": false,
     "start_time": "2022-01-23T09:07:02.799069",
     "status": "completed"
    },
    "tags": []
   },
   "source": [
    "# Parse the Data"
   ]
  },
  {
   "cell_type": "markdown",
   "id": "1d32b279",
   "metadata": {
    "papermill": {
     "duration": 0.03078,
     "end_time": "2022-01-23T09:07:02.892083",
     "exception": false,
     "start_time": "2022-01-23T09:07:02.861303",
     "status": "completed"
    },
    "tags": []
   },
   "source": [
    "We’ll take a sample of 100,000 reviews to reduce the training time of our model."
   ]
  },
  {
   "cell_type": "code",
   "execution_count": 2,
   "id": "25ce818f",
   "metadata": {
    "execution": {
     "iopub.execute_input": "2022-01-23T09:07:02.960222Z",
     "iopub.status.busy": "2022-01-23T09:07:02.957443Z",
     "iopub.status.idle": "2022-01-23T09:07:03.164099Z",
     "shell.execute_reply": "2022-01-23T09:07:03.163197Z",
     "shell.execute_reply.started": "2022-01-23T09:00:02.510682Z"
    },
    "papermill": {
     "duration": 0.241174,
     "end_time": "2022-01-23T09:07:03.164247",
     "exception": false,
     "start_time": "2022-01-23T09:07:02.923073",
     "status": "completed"
    },
    "tags": []
   },
   "outputs": [],
   "source": [
    "#read the dataset file for text Summarizer\n",
    "df=pd.read_csv(\"final_data.csv\",nrows=10000)\n",
    "# df = pd.read_csv(\"../input/amazon-fine-food-reviews/Reviews.csv\")\n",
    "#drop the duplicate and na values from the records\n",
    "df.drop_duplicates(subset=['Text'],inplace=True)\n",
    "df.dropna(axis=0,inplace=True) #dropping na\n",
    "input_data = df.loc[:,'Text']\n",
    "target_data = df.loc[:,'Summary']\n",
    "target_data.replace('', np.nan, inplace=True)"
   ]
  },
  {
   "cell_type": "code",
   "execution_count": 3,
   "id": "b3096b7f",
   "metadata": {
    "execution": {
     "iopub.execute_input": "2022-01-23T09:07:03.245967Z",
     "iopub.status.busy": "2022-01-23T09:07:03.24527Z",
     "iopub.status.idle": "2022-01-23T09:07:03.249537Z",
     "shell.execute_reply": "2022-01-23T09:07:03.250205Z",
     "shell.execute_reply.started": "2022-01-23T09:00:02.601825Z"
    },
    "papermill": {
     "duration": 0.054827,
     "end_time": "2022-01-23T09:07:03.250435",
     "exception": false,
     "start_time": "2022-01-23T09:07:03.195608",
     "status": "completed"
    },
    "tags": []
   },
   "outputs": [
    {
     "name": "stdout",
     "output_type": "stream",
     "text": [
      "<class 'pandas.core.frame.DataFrame'>\n",
      "Int64Index: 9513 entries, 0 to 9999\n",
      "Data columns (total 10 columns):\n",
      "Id                        9513 non-null int64\n",
      "ProductId                 9513 non-null object\n",
      "UserId                    9513 non-null object\n",
      "ProfileName               9513 non-null object\n",
      "HelpfulnessNumerator      9513 non-null int64\n",
      "HelpfulnessDenominator    9513 non-null int64\n",
      "Score                     9513 non-null int64\n",
      "Time                      9513 non-null int64\n",
      "Summary                   9513 non-null object\n",
      "Text                      9513 non-null object\n",
      "dtypes: int64(5), object(5)\n",
      "memory usage: 817.5+ KB\n"
     ]
    }
   ],
   "source": [
    "\n",
    "df.info()"
   ]
  },
  {
   "cell_type": "code",
   "execution_count": 4,
   "id": "715e50a1",
   "metadata": {
    "execution": {
     "iopub.execute_input": "2022-01-23T09:07:03.323035Z",
     "iopub.status.busy": "2022-01-23T09:07:03.322226Z",
     "iopub.status.idle": "2022-01-23T09:07:03.325322Z",
     "shell.execute_reply": "2022-01-23T09:07:03.325731Z",
     "shell.execute_reply.started": "2022-01-23T09:00:02.622168Z"
    },
    "papermill": {
     "duration": 0.041492,
     "end_time": "2022-01-23T09:07:03.325854",
     "exception": false,
     "start_time": "2022-01-23T09:07:03.284362",
     "status": "completed"
    },
    "tags": []
   },
   "outputs": [
    {
     "data": {
      "text/plain": [
       "0                            Good Quality Dog Food\n",
       "1                                Not as Advertised\n",
       "2                            \"Delight\" says it all\n",
       "3                                   Cough Medicine\n",
       "4                                      Great taffy\n",
       "5                                       Nice Taffy\n",
       "6    Great!  Just as good as the expensive brands!\n",
       "7                           Wonderful, tasty taffy\n",
       "8                                       Yay Barley\n",
       "9                                 Healthy Dog Food\n",
       "Name: Summary, dtype: object"
      ]
     },
     "execution_count": 4,
     "metadata": {},
     "output_type": "execute_result"
    }
   ],
   "source": [
    "df['Summary'][:10]"
   ]
  },
  {
   "cell_type": "code",
   "execution_count": 5,
   "id": "53af3cf2",
   "metadata": {
    "execution": {
     "iopub.execute_input": "2022-01-23T09:07:03.394441Z",
     "iopub.status.busy": "2022-01-23T09:07:03.393651Z",
     "iopub.status.idle": "2022-01-23T09:07:03.396604Z",
     "shell.execute_reply": "2022-01-23T09:07:03.397003Z",
     "shell.execute_reply.started": "2022-01-23T09:00:02.633587Z"
    },
    "papermill": {
     "duration": 0.039691,
     "end_time": "2022-01-23T09:07:03.397119",
     "exception": false,
     "start_time": "2022-01-23T09:07:03.357428",
     "status": "completed"
    },
    "tags": []
   },
   "outputs": [
    {
     "data": {
      "text/plain": [
       "0    I have bought several of the Vitality canned dog food products and have found them all to be of good quality. The product looks more like a stew than a processed meat and it smells better. My Labr...\n",
       "1             Product arrived labeled as Jumbo Salted Peanuts...the peanuts were actually small sized unsalted. Not sure if this was an error or if the vendor intended to represent the product as \"Jumbo\".\n",
       "2    This is a confection that has been around a few centuries.  It is a light, pillowy citrus gelatin with nuts - in this case Filberts. And it is cut into tiny squares and then liberally coated with ...\n",
       "3    If you are looking for the secret ingredient in Robitussin I believe I have found it.  I got this in addition to the Root Beer Extract I ordered (which was good) and made some cherry soda.  The fl...\n",
       "4                                                               Great taffy at a great price.  There was a wide assortment of yummy taffy.  Delivery was very quick.  If your a taffy lover, this is a deal.\n",
       "5    I got a wild hair for taffy and ordered this five pound bag. The taffy was all very enjoyable with many flavors: watermelon, root beer, melon, peppermint, grape, etc. My only complaint is there wa...\n",
       "6    This saltwater taffy had great flavors and was very soft and chewy.  Each candy was individually wrapped well.  None of the candies were stuck together, which did happen in the expensive version, ...\n",
       "7                                                               This taffy is so good.  It is very soft and chewy.  The flavors are amazing.  I would definitely recommend you buying it.  Very satisfying!!\n",
       "8                                                                        Right now I'm mostly just sprouting this so my cats can eat the grass. They love it. I rotate it around with Wheatgrass and Rye too\n",
       "9                                                                  This is a very healthy dog food. Good for their digestion. Also good for small puppies. My dog eats her required amount at every feeding.\n",
       "Name: Text, dtype: object"
      ]
     },
     "execution_count": 5,
     "metadata": {},
     "output_type": "execute_result"
    }
   ],
   "source": [
    "df['Text'][:10]"
   ]
  },
  {
   "cell_type": "markdown",
   "id": "ffe7cb5c",
   "metadata": {
    "papermill": {
     "duration": 0.032515,
     "end_time": "2022-01-23T09:07:03.461348",
     "exception": false,
     "start_time": "2022-01-23T09:07:03.428833",
     "status": "completed"
    },
    "tags": []
   },
   "source": []
  },
  {
   "cell_type": "markdown",
   "id": "87b77922",
   "metadata": {
    "papermill": {
     "duration": 0.032063,
     "end_time": "2022-01-23T09:07:03.525264",
     "exception": false,
     "start_time": "2022-01-23T09:07:03.493201",
     "status": "completed"
    },
    "tags": []
   },
   "source": [
    "# Preprocessing"
   ]
  },
  {
   "cell_type": "markdown",
   "id": "d16f2061",
   "metadata": {
    "papermill": {
     "duration": 0.032023,
     "end_time": "2022-01-23T09:07:03.589305",
     "exception": false,
     "start_time": "2022-01-23T09:07:03.557282",
     "status": "completed"
    },
    "tags": []
   },
   "source": [
    "Performing basic preprocessing steps is very important before we get to the model building part. Using messy and uncleaned text data is a potentially disastrous move. So in this step, we will drop all the unwanted symbols, characters, etc. from the text that do not affect the objective of our problem.\n",
    "\n",
    "Here is the dictionary that we will use for expanding the contractions:"
   ]
  },
  {
   "cell_type": "code",
   "execution_count": 6,
   "id": "d0ac8e87",
   "metadata": {
    "execution": {
     "iopub.execute_input": "2022-01-23T09:07:03.666789Z",
     "iopub.status.busy": "2022-01-23T09:07:03.66603Z",
     "iopub.status.idle": "2022-01-23T09:07:03.668681Z",
     "shell.execute_reply": "2022-01-23T09:07:03.668191Z",
     "shell.execute_reply.started": "2022-01-23T09:00:02.644437Z"
    },
    "papermill": {
     "duration": 0.047501,
     "end_time": "2022-01-23T09:07:03.668831",
     "exception": false,
     "start_time": "2022-01-23T09:07:03.62133",
     "status": "completed"
    },
    "tags": []
   },
   "outputs": [],
   "source": [
    "contraction_mapping = {\"ain't\": \"is not\", \"aren't\": \"are not\",\"can't\": \"cannot\", \"'cause\": \"because\", \"could've\": \"could have\", \"couldn't\": \"could not\",\n",
    "                           \"didn't\": \"did not\",  \"doesn't\": \"does not\", \"don't\": \"do not\", \"hadn't\": \"had not\", \"hasn't\": \"has not\", \"haven't\": \"have not\",\n",
    "                           \"he'd\": \"he would\",\"he'll\": \"he will\", \"he's\": \"he is\", \"how'd\": \"how did\", \"how'd'y\": \"how do you\", \"how'll\": \"how will\", \"how's\": \"how is\",\n",
    "                           \"I'd\": \"I would\", \"I'd've\": \"I would have\", \"I'll\": \"I will\", \"I'll've\": \"I will have\",\"I'm\": \"I am\", \"I've\": \"I have\", \"i'd\": \"i would\",\n",
    "                           \"i'd've\": \"i would have\", \"i'll\": \"i will\",  \"i'll've\": \"i will have\",\"i'm\": \"i am\", \"i've\": \"i have\", \"isn't\": \"is not\", \"it'd\": \"it would\",\n",
    "                           \"it'd've\": \"it would have\", \"it'll\": \"it will\", \"it'll've\": \"it will have\",\"it's\": \"it is\", \"let's\": \"let us\", \"ma'am\": \"madam\",\n",
    "                           \"mayn't\": \"may not\", \"might've\": \"might have\",\"mightn't\": \"might not\",\"mightn't've\": \"might not have\", \"must've\": \"must have\",\n",
    "                           \"mustn't\": \"must not\", \"mustn't've\": \"must not have\", \"needn't\": \"need not\", \"needn't've\": \"need not have\",\"o'clock\": \"of the clock\",\n",
    "                           \"oughtn't\": \"ought not\", \"oughtn't've\": \"ought not have\", \"shan't\": \"shall not\", \"sha'n't\": \"shall not\", \"shan't've\": \"shall not have\",\n",
    "                           \"she'd\": \"she would\", \"she'd've\": \"she would have\", \"she'll\": \"she will\", \"she'll've\": \"she will have\", \"she's\": \"she is\",\n",
    "                           \"should've\": \"should have\", \"shouldn't\": \"should not\", \"shouldn't've\": \"should not have\", \"so've\": \"so have\",\"so's\": \"so as\",\n",
    "                           \"this's\": \"this is\",\"that'd\": \"that would\", \"that'd've\": \"that would have\", \"that's\": \"that is\", \"there'd\": \"there would\",\n",
    "                           \"there'd've\": \"there would have\", \"there's\": \"there is\", \"here's\": \"here is\",\"they'd\": \"they would\", \"they'd've\": \"they would have\",\n",
    "                           \"they'll\": \"they will\", \"they'll've\": \"they will have\", \"they're\": \"they are\", \"they've\": \"they have\", \"to've\": \"to have\",\n",
    "                           \"wasn't\": \"was not\", \"we'd\": \"we would\", \"we'd've\": \"we would have\", \"we'll\": \"we will\", \"we'll've\": \"we will have\", \"we're\": \"we are\",\n",
    "                           \"we've\": \"we have\", \"weren't\": \"were not\", \"what'll\": \"what will\", \"what'll've\": \"what will have\", \"what're\": \"what are\",\n",
    "                           \"what's\": \"what is\", \"what've\": \"what have\", \"when's\": \"when is\", \"when've\": \"when have\", \"where'd\": \"where did\", \"where's\": \"where is\",\n",
    "                           \"where've\": \"where have\", \"who'll\": \"who will\", \"who'll've\": \"who will have\", \"who's\": \"who is\", \"who've\": \"who have\",\n",
    "                           \"why's\": \"why is\", \"why've\": \"why have\", \"will've\": \"will have\", \"won't\": \"will not\", \"won't've\": \"will not have\",\n",
    "                           \"would've\": \"would have\", \"wouldn't\": \"would not\", \"wouldn't've\": \"would not have\", \"y'all\": \"you all\",\n",
    "                           \"y'all'd\": \"you all would\",\"y'all'd've\": \"you all would have\",\"y'all're\": \"you all are\",\"y'all've\": \"you all have\",\n",
    "                           \"you'd\": \"you would\", \"you'd've\": \"you would have\", \"you'll\": \"you will\", \"you'll've\": \"you will have\",\n",
    "                           \"you're\": \"you are\", \"you've\": \"you have\"}"
   ]
  },
  {
   "cell_type": "markdown",
   "id": "81a6d2fd",
   "metadata": {
    "papermill": {
     "duration": 0.031661,
     "end_time": "2022-01-23T09:07:03.732494",
     "exception": false,
     "start_time": "2022-01-23T09:07:03.700833",
     "status": "completed"
    },
    "tags": []
   },
   "source": [
    "We can use the contraction using two method, one we can use the above dictionary or we can keep the contraction file as a data set and import it. "
   ]
  },
  {
   "cell_type": "code",
   "execution_count": 7,
   "id": "8e7351e2",
   "metadata": {
    "execution": {
     "iopub.execute_input": "2022-01-23T09:07:03.804218Z",
     "iopub.status.busy": "2022-01-23T09:07:03.803032Z",
     "iopub.status.idle": "2022-01-23T09:07:03.806766Z",
     "shell.execute_reply": "2022-01-23T09:07:03.806337Z",
     "shell.execute_reply.started": "2022-01-23T09:00:02.661511Z"
    },
    "papermill": {
     "duration": 0.041334,
     "end_time": "2022-01-23T09:07:03.806882",
     "exception": false,
     "start_time": "2022-01-23T09:07:03.765548",
     "status": "completed"
    },
    "tags": []
   },
   "outputs": [],
   "source": [
    "input_texts=[]  # Text column\n",
    "target_texts=[] # summary column\n",
    "input_words=[]\n",
    "target_words=[]\n",
    "# contractions=pickle.load(open(\"../input/contraction/contractions.pkl\",\"rb\"))['contractions']\n",
    "contractions = contraction_mapping\n",
    "\n",
    "#initialize stop words and LancasterStemmer\n",
    "stop_words=set(stopwords.words('english'))\n",
    "stemm=LancasterStemmer()"
   ]
  },
  {
   "cell_type": "markdown",
   "id": "e98f2c77",
   "metadata": {
    "papermill": {
     "duration": 0.032201,
     "end_time": "2022-01-23T09:07:03.871168",
     "exception": false,
     "start_time": "2022-01-23T09:07:03.838967",
     "status": "completed"
    },
    "tags": []
   },
   "source": []
  },
  {
   "cell_type": "markdown",
   "id": "819c4deb",
   "metadata": {
    "papermill": {
     "duration": 0.032137,
     "end_time": "2022-01-23T09:07:03.935237",
     "exception": false,
     "start_time": "2022-01-23T09:07:03.9031",
     "status": "completed"
    },
    "tags": []
   },
   "source": [
    "# Data Cleaning"
   ]
  },
  {
   "cell_type": "markdown",
   "id": "eb5322a3",
   "metadata": {
    "papermill": {
     "duration": 0.031651,
     "end_time": "2022-01-23T09:07:03.999083",
     "exception": false,
     "start_time": "2022-01-23T09:07:03.967432",
     "status": "completed"
    },
    "tags": []
   },
   "source": []
  },
  {
   "cell_type": "code",
   "execution_count": 8,
   "id": "39afd78b",
   "metadata": {
    "execution": {
     "iopub.execute_input": "2022-01-23T09:07:04.071005Z",
     "iopub.status.busy": "2022-01-23T09:07:04.070143Z",
     "iopub.status.idle": "2022-01-23T09:07:04.071944Z",
     "shell.execute_reply": "2022-01-23T09:07:04.072348Z",
     "shell.execute_reply.started": "2022-01-23T09:00:02.681273Z"
    },
    "papermill": {
     "duration": 0.041093,
     "end_time": "2022-01-23T09:07:04.07247",
     "exception": false,
     "start_time": "2022-01-23T09:07:04.031377",
     "status": "completed"
    },
    "tags": []
   },
   "outputs": [],
   "source": [
    "def clean(texts,src):\n",
    "  texts = BeautifulSoup(texts, \"lxml\").text   #remove the html tags\n",
    "  words=word_tokenize(texts.lower())  #tokenize the text into words \n",
    "  #filter words which contains \\ \n",
    "  #integers or their length is less than or equal to 3\n",
    "  words= list(filter(lambda w:(w.isalpha() and len(w)>=3),words))\n",
    "  #contraction file to expand shortened words\n",
    "  words= [contractions[w] if w in contractions else w for w in words ]\n",
    "\n",
    "  #stem the words to their root word and filter stop words\n",
    "  if src==\"inputs\":\n",
    "    words= [stemm.stem(w) for w in words if w not in stop_words]\n",
    "  else:\n",
    "    words= [w for w in words if w not in stop_words]\n",
    "  return words"
   ]
  },
  {
   "cell_type": "code",
   "execution_count": null,
   "id": "f32d6b6c",
   "metadata": {
    "papermill": {
     "duration": 0.033231,
     "end_time": "2022-01-23T09:07:04.13754",
     "exception": false,
     "start_time": "2022-01-23T09:07:04.104309",
     "status": "completed"
    },
    "tags": []
   },
   "outputs": [],
   "source": []
  },
  {
   "cell_type": "code",
   "execution_count": 9,
   "id": "c6695f2d",
   "metadata": {
    "execution": {
     "iopub.execute_input": "2022-01-23T09:07:04.208397Z",
     "iopub.status.busy": "2022-01-23T09:07:04.207816Z",
     "iopub.status.idle": "2022-01-23T09:07:28.229089Z",
     "shell.execute_reply": "2022-01-23T09:07:28.22782Z",
     "shell.execute_reply.started": "2022-01-23T09:00:02.691628Z"
    },
    "papermill": {
     "duration": 24.059831,
     "end_time": "2022-01-23T09:07:28.22926",
     "exception": false,
     "start_time": "2022-01-23T09:07:04.169429",
     "status": "completed"
    },
    "tags": []
   },
   "outputs": [],
   "source": [
    "#pass the input records and target records\n",
    "for in_txt,tr_txt in zip(input_data,target_data):\n",
    "  in_words= clean(in_txt,\"inputs\")\n",
    "  input_texts+= [' '.join(in_words)]\n",
    "  input_words+= in_words\n",
    "  #add 'sos' at start and 'eos' at end of text\n",
    "  tr_words= clean(\"sos \"+tr_txt+\" eos\",\"target\")\n",
    "  target_texts+= [' '.join(tr_words)]\n",
    "  target_words+= tr_words"
   ]
  },
  {
   "cell_type": "code",
   "execution_count": 10,
   "id": "8e4aeb36",
   "metadata": {
    "execution": {
     "iopub.execute_input": "2022-01-23T09:07:28.336722Z",
     "iopub.status.busy": "2022-01-23T09:07:28.335884Z",
     "iopub.status.idle": "2022-01-23T09:07:28.351034Z",
     "shell.execute_reply": "2022-01-23T09:07:28.351618Z",
     "shell.execute_reply.started": "2022-01-23T09:00:26.10723Z"
    },
    "papermill": {
     "duration": 0.089392,
     "end_time": "2022-01-23T09:07:28.351797",
     "exception": false,
     "start_time": "2022-01-23T09:07:28.262405",
     "status": "completed"
    },
    "tags": []
   },
   "outputs": [
    {
     "name": "stdout",
     "output_type": "stream",
     "text": [
      "number of input words :  10353\n",
      "number of target words :  4173\n",
      "maximum input length :  73\n",
      "maximum target length :  17\n"
     ]
    }
   ],
   "source": [
    "#store only unique words from input and target list of words\n",
    "input_words = sorted(list(set(input_words)))\n",
    "target_words = sorted(list(set(target_words)))\n",
    "num_in_words = len(input_words) #total number of input words\n",
    "num_tr_words = len(target_words) #total number of target words\n",
    " \n",
    "#get the length of the input and target texts which appears most often  \n",
    "max_in_len = mode([len(i) for i in input_texts])\n",
    "max_tr_len = mode([len(i) for i in target_texts])\n",
    " \n",
    "print(\"number of input words : \",num_in_words)\n",
    "print(\"number of target words : \",num_tr_words)\n",
    "print(\"maximum input length : \",max_in_len)\n",
    "print(\"maximum target length : \",max_tr_len)"
   ]
  },
  {
   "cell_type": "markdown",
   "id": "8df99e28",
   "metadata": {
    "papermill": {
     "duration": 0.032588,
     "end_time": "2022-01-23T09:07:28.417879",
     "exception": false,
     "start_time": "2022-01-23T09:07:28.385291",
     "status": "completed"
    },
    "tags": []
   },
   "source": [
    "# Split it"
   ]
  },
  {
   "cell_type": "code",
   "execution_count": 11,
   "id": "07b38310",
   "metadata": {
    "execution": {
     "iopub.execute_input": "2022-01-23T09:07:28.496791Z",
     "iopub.status.busy": "2022-01-23T09:07:28.496126Z",
     "iopub.status.idle": "2022-01-23T09:07:28.498234Z",
     "shell.execute_reply": "2022-01-23T09:07:28.498626Z",
     "shell.execute_reply.started": "2022-01-23T09:00:26.170834Z"
    },
    "papermill": {
     "duration": 0.047974,
     "end_time": "2022-01-23T09:07:28.49876",
     "exception": false,
     "start_time": "2022-01-23T09:07:28.450786",
     "status": "completed"
    },
    "tags": []
   },
   "outputs": [],
   "source": [
    "#split the input and target text into 80:20 ratio or testing size of 20%.\n",
    "x_train,x_test,y_train,y_test=train_test_split(input_texts,target_texts,test_size=0.2,random_state=0) "
   ]
  },
  {
   "cell_type": "code",
   "execution_count": 12,
   "id": "f8580dfb",
   "metadata": {
    "execution": {
     "iopub.execute_input": "2022-01-23T09:07:28.612766Z",
     "iopub.status.busy": "2022-01-23T09:07:28.577004Z",
     "iopub.status.idle": "2022-01-23T09:07:29.118111Z",
     "shell.execute_reply": "2022-01-23T09:07:29.117565Z",
     "shell.execute_reply.started": "2022-01-23T09:00:26.189434Z"
    },
    "papermill": {
     "duration": 0.586453,
     "end_time": "2022-01-23T09:07:29.118244",
     "exception": false,
     "start_time": "2022-01-23T09:07:28.531791",
     "status": "completed"
    },
    "tags": []
   },
   "outputs": [],
   "source": [
    "#train the tokenizer with all the words\n",
    "in_tokenizer = Tokenizer()\n",
    "in_tokenizer.fit_on_texts(x_train)\n",
    "tr_tokenizer = Tokenizer()\n",
    "tr_tokenizer.fit_on_texts(y_train)\n",
    " \n",
    "#convert text into sequence of integers\n",
    "#where the integer will be the index of that word\n",
    "x_train= in_tokenizer.texts_to_sequences(x_train) \n",
    "y_train= tr_tokenizer.texts_to_sequences(y_train)"
   ]
  },
  {
   "cell_type": "code",
   "execution_count": 13,
   "id": "6967014d",
   "metadata": {
    "execution": {
     "iopub.execute_input": "2022-01-23T09:07:29.191349Z",
     "iopub.status.busy": "2022-01-23T09:07:29.190551Z",
     "iopub.status.idle": "2022-01-23T09:07:29.315327Z",
     "shell.execute_reply": "2022-01-23T09:07:29.314816Z",
     "shell.execute_reply.started": "2022-01-23T09:00:26.740325Z"
    },
    "papermill": {
     "duration": 0.163821,
     "end_time": "2022-01-23T09:07:29.315446",
     "exception": false,
     "start_time": "2022-01-23T09:07:29.151625",
     "status": "completed"
    },
    "tags": []
   },
   "outputs": [],
   "source": [
    "#pad array of 0's if the length is less than the maximum length \n",
    "en_in_data= pad_sequences(x_train,  maxlen=max_in_len, padding='post') \n",
    "dec_data= pad_sequences(y_train,  maxlen=max_tr_len, padding='post')\n",
    " \n",
    "#decoder input data will not include the last word \n",
    "#i.e. 'eos' in decoder input data\n",
    "dec_in_data = dec_data[:,:-1]\n",
    "#decoder target data will be one time step ahead as it will not include\n",
    "# the first word i.e 'sos'\n",
    "dec_tr_data = dec_data.reshape(len(dec_data),max_tr_len,1)[:,1:]"
   ]
  },
  {
   "cell_type": "markdown",
   "id": "4d171baf",
   "metadata": {
    "papermill": {
     "duration": 0.03273,
     "end_time": "2022-01-23T09:07:29.381641",
     "exception": false,
     "start_time": "2022-01-23T09:07:29.348911",
     "status": "completed"
    },
    "tags": []
   },
   "source": [
    "# Model Building"
   ]
  },
  {
   "cell_type": "code",
   "execution_count": 14,
   "id": "0dc59f89",
   "metadata": {
    "execution": {
     "iopub.execute_input": "2022-01-23T09:07:29.451427Z",
     "iopub.status.busy": "2022-01-23T09:07:29.450821Z",
     "iopub.status.idle": "2022-01-23T09:07:31.826255Z",
     "shell.execute_reply": "2022-01-23T09:07:31.827226Z",
     "shell.execute_reply.started": "2022-01-23T09:00:26.93151Z"
    },
    "papermill": {
     "duration": 2.413073,
     "end_time": "2022-01-23T09:07:31.827437",
     "exception": false,
     "start_time": "2022-01-23T09:07:29.414364",
     "status": "completed"
    },
    "tags": []
   },
   "outputs": [],
   "source": [
    "K.clear_session() \n",
    "latent_dim = 500\n",
    " \n",
    "#create input object of total number of encoder words\n",
    "en_inputs = Input(shape=(max_in_len,)) \n",
    "en_embedding = Embedding(num_in_words+1, latent_dim)(en_inputs) "
   ]
  },
  {
   "cell_type": "code",
   "execution_count": 15,
   "id": "2fe6f986",
   "metadata": {
    "execution": {
     "iopub.execute_input": "2022-01-23T09:07:31.948263Z",
     "iopub.status.busy": "2022-01-23T09:07:31.947435Z",
     "iopub.status.idle": "2022-01-23T09:07:33.133183Z",
     "shell.execute_reply": "2022-01-23T09:07:33.132697Z",
     "shell.execute_reply.started": "2022-01-23T09:00:26.975803Z"
    },
    "papermill": {
     "duration": 1.249699,
     "end_time": "2022-01-23T09:07:33.133325",
     "exception": false,
     "start_time": "2022-01-23T09:07:31.883626",
     "status": "completed"
    },
    "tags": []
   },
   "outputs": [],
   "source": [
    "#create 3 stacked LSTM layer with the shape of hidden dimension for text summarizer using deep learning\n",
    "#LSTM 1\n",
    "en_lstm1= LSTM(latent_dim, return_state=True, return_sequences=True) \n",
    "en_outputs1, state_h1, state_c1= en_lstm1(en_embedding) \n",
    " \n",
    "#LSTM2\n",
    "en_lstm2= LSTM(latent_dim, return_state=True, return_sequences=True) \n",
    "en_outputs2, state_h2, state_c2= en_lstm2(en_outputs1) \n",
    " \n",
    "#LSTM3\n",
    "en_lstm3= LSTM(latent_dim,return_sequences=True,return_state=True)\n",
    "en_outputs3 , state_h3 , state_c3= en_lstm3(en_outputs2)\n",
    " \n",
    "#encoder states\n",
    "en_states= [state_h3, state_c3]"
   ]
  },
  {
   "cell_type": "markdown",
   "id": "4788b37c",
   "metadata": {
    "papermill": {
     "duration": 0.036331,
     "end_time": "2022-01-23T09:07:33.203389",
     "exception": false,
     "start_time": "2022-01-23T09:07:33.167058",
     "status": "completed"
    },
    "tags": []
   },
   "source": [
    "# Decoder"
   ]
  },
  {
   "cell_type": "code",
   "execution_count": 16,
   "id": "5d81f178",
   "metadata": {
    "execution": {
     "iopub.execute_input": "2022-01-23T09:07:33.287284Z",
     "iopub.status.busy": "2022-01-23T09:07:33.286339Z",
     "iopub.status.idle": "2022-01-23T09:07:33.574287Z",
     "shell.execute_reply": "2022-01-23T09:07:33.57373Z",
     "shell.execute_reply.started": "2022-01-23T09:00:27.817695Z"
    },
    "papermill": {
     "duration": 0.330569,
     "end_time": "2022-01-23T09:07:33.574424",
     "exception": false,
     "start_time": "2022-01-23T09:07:33.243855",
     "status": "completed"
    },
    "tags": []
   },
   "outputs": [],
   "source": [
    "# Decoder. \n",
    "dec_inputs = Input(shape=(None,)) \n",
    "dec_emb_layer = Embedding(num_tr_words+1, latent_dim) \n",
    "dec_embedding = dec_emb_layer(dec_inputs) \n",
    " \n",
    "#initialize decoder's LSTM layer with the output states of encoder\n",
    "dec_lstm = LSTM(latent_dim, return_sequences=True, return_state=True)\n",
    "dec_outputs, *_ = dec_lstm(dec_embedding,initial_state=en_states) "
   ]
  },
  {
   "cell_type": "markdown",
   "id": "9e6f1508",
   "metadata": {
    "papermill": {
     "duration": 0.034231,
     "end_time": "2022-01-23T09:07:33.643915",
     "exception": false,
     "start_time": "2022-01-23T09:07:33.609684",
     "status": "completed"
    },
    "tags": []
   },
   "source": [
    "# Attention Layer"
   ]
  },
  {
   "cell_type": "code",
   "execution_count": 17,
   "id": "99a27f66",
   "metadata": {
    "execution": {
     "iopub.execute_input": "2022-01-23T09:07:33.717566Z",
     "iopub.status.busy": "2022-01-23T09:07:33.716744Z",
     "iopub.status.idle": "2022-01-23T09:07:33.725919Z",
     "shell.execute_reply": "2022-01-23T09:07:33.726328Z",
     "shell.execute_reply.started": "2022-01-23T09:00:28.114989Z"
    },
    "papermill": {
     "duration": 0.048996,
     "end_time": "2022-01-23T09:07:33.726457",
     "exception": false,
     "start_time": "2022-01-23T09:07:33.677461",
     "status": "completed"
    },
    "tags": []
   },
   "outputs": [],
   "source": [
    "#Attention layer\n",
    "attention =Attention()\n",
    "attn_out = attention([dec_outputs,en_outputs3])\n",
    " \n",
    "#Concatenate the attention output with the decoder outputs\n",
    "merge=Concatenate(axis=-1, name='concat_layer1')([dec_outputs,attn_out])"
   ]
  },
  {
   "cell_type": "code",
   "execution_count": 18,
   "id": "eaa5c25f",
   "metadata": {
    "execution": {
     "iopub.execute_input": "2022-01-23T09:07:33.79928Z",
     "iopub.status.busy": "2022-01-23T09:07:33.798505Z",
     "iopub.status.idle": "2022-01-23T09:07:33.816209Z",
     "shell.execute_reply": "2022-01-23T09:07:33.816644Z",
     "shell.execute_reply.started": "2022-01-23T09:00:28.130842Z"
    },
    "papermill": {
     "duration": 0.057002,
     "end_time": "2022-01-23T09:07:33.816775",
     "exception": false,
     "start_time": "2022-01-23T09:07:33.759773",
     "status": "completed"
    },
    "tags": []
   },
   "outputs": [],
   "source": [
    "#Dense layer (output layer)\n",
    "dec_dense = Dense(num_tr_words+1, activation='softmax') \n",
    "dec_outputs = dec_dense(merge)"
   ]
  },
  {
   "cell_type": "markdown",
   "id": "34f5b1d7",
   "metadata": {
    "papermill": {
     "duration": 0.032883,
     "end_time": "2022-01-23T09:07:33.883134",
     "exception": false,
     "start_time": "2022-01-23T09:07:33.850251",
     "status": "completed"
    },
    "tags": []
   },
   "source": [
    "# Train the Model"
   ]
  },
  {
   "cell_type": "code",
   "execution_count": 19,
   "id": "33b0e13f",
   "metadata": {
    "execution": {
     "iopub.execute_input": "2022-01-23T09:07:33.956252Z",
     "iopub.status.busy": "2022-01-23T09:07:33.955439Z",
     "iopub.status.idle": "2022-01-23T09:07:34.741442Z",
     "shell.execute_reply": "2022-01-23T09:07:34.741885Z",
     "shell.execute_reply.started": "2022-01-23T09:00:28.153826Z"
    },
    "papermill": {
     "duration": 0.825933,
     "end_time": "2022-01-23T09:07:34.742032",
     "exception": false,
     "start_time": "2022-01-23T09:07:33.916099",
     "status": "completed"
    },
    "tags": []
   },
   "outputs": [
    {
     "name": "stdout",
     "output_type": "stream",
     "text": [
      "Model: \"model\"\n",
      "__________________________________________________________________________________________________\n",
      "Layer (type)                    Output Shape         Param #     Connected to                     \n",
      "==================================================================================================\n",
      "input_1 (InputLayer)            [(None, 73)]         0                                            \n",
      "__________________________________________________________________________________________________\n",
      "embedding (Embedding)           (None, 73, 500)      5177000     input_1[0][0]                    \n",
      "__________________________________________________________________________________________________\n",
      "lstm (LSTM)                     [(None, 73, 500), (N 2002000     embedding[0][0]                  \n",
      "__________________________________________________________________________________________________\n",
      "input_2 (InputLayer)            [(None, None)]       0                                            \n",
      "__________________________________________________________________________________________________\n",
      "lstm_1 (LSTM)                   [(None, 73, 500), (N 2002000     lstm[0][0]                       \n",
      "__________________________________________________________________________________________________\n",
      "embedding_1 (Embedding)         (None, None, 500)    2087000     input_2[0][0]                    \n",
      "__________________________________________________________________________________________________\n",
      "lstm_2 (LSTM)                   [(None, 73, 500), (N 2002000     lstm_1[0][0]                     \n",
      "__________________________________________________________________________________________________\n",
      "lstm_3 (LSTM)                   [(None, None, 500),  2002000     embedding_1[0][0]                \n",
      "                                                                 lstm_2[0][1]                     \n",
      "                                                                 lstm_2[0][2]                     \n",
      "__________________________________________________________________________________________________\n",
      "attention (Attention)           (None, None, 500)    0           lstm_3[0][0]                     \n",
      "                                                                 lstm_2[0][0]                     \n",
      "__________________________________________________________________________________________________\n",
      "concat_layer1 (Concatenate)     (None, None, 1000)   0           lstm_3[0][0]                     \n",
      "                                                                 attention[0][0]                  \n",
      "__________________________________________________________________________________________________\n",
      "dense (Dense)                   (None, None, 4174)   4178174     concat_layer1[0][0]              \n",
      "==================================================================================================\n",
      "Total params: 19,450,174\n",
      "Trainable params: 19,450,174\n",
      "Non-trainable params: 0\n",
      "__________________________________________________________________________________________________\n",
      "('You must install pydot (`pip install pydot`) and install graphviz (see instructions at https://graphviz.gitlab.io/download/) ', 'for plot_model/model_to_dot to work.')\n"
     ]
    }
   ],
   "source": [
    "#Model class and model summary for text Summarizer\n",
    "model = Model([en_inputs, dec_inputs], dec_outputs) \n",
    "model.summary()\n",
    "plot_model(model, to_file='model_plot.png', show_shapes=True, show_layer_names=True)"
   ]
  },
  {
   "cell_type": "code",
   "execution_count": 20,
   "id": "3bbe43f1",
   "metadata": {
    "execution": {
     "iopub.execute_input": "2022-01-23T09:07:34.828242Z",
     "iopub.status.busy": "2022-01-23T09:07:34.827458Z",
     "iopub.status.idle": "2022-01-23T09:08:23.175615Z",
     "shell.execute_reply": "2022-01-23T09:08:23.176107Z",
     "shell.execute_reply.started": "2022-01-23T09:00:28.382967Z"
    },
    "papermill": {
     "duration": 48.398094,
     "end_time": "2022-01-23T09:08:23.176295",
     "exception": false,
     "start_time": "2022-01-23T09:07:34.778201",
     "status": "completed"
    },
    "tags": []
   },
   "outputs": [
    {
     "name": "stdout",
     "output_type": "stream",
     "text": [
      "Epoch 1/10\n",
      "14/14 [==============================] - 142s 10s/step - loss: 2.5923 - accuracy: 0.6936 - val_loss: 1.4410 - val_accuracy: 0.7884\n",
      "Epoch 2/10\n",
      "14/14 [==============================] - 138s 10s/step - loss: 1.4029 - accuracy: 0.7958 - val_loss: 1.4017 - val_accuracy: 0.8017\n",
      "Epoch 3/10\n",
      "14/14 [==============================] - 160s 12s/step - loss: 1.3113 - accuracy: 0.8183 - val_loss: 1.3338 - val_accuracy: 0.8265\n",
      "Epoch 4/10\n",
      "14/14 [==============================] - 191s 14s/step - loss: 1.2547 - accuracy: 0.8341 - val_loss: 1.3170 - val_accuracy: 0.8302\n",
      "Epoch 5/10\n",
      "14/14 [==============================] - 181s 13s/step - loss: 1.2347 - accuracy: 0.8339 - val_loss: 1.3122 - val_accuracy: 0.8340\n",
      "Epoch 6/10\n",
      "14/14 [==============================] - 182s 13s/step - loss: 1.2109 - accuracy: 0.8351 - val_loss: 1.3112 - val_accuracy: 0.8343\n",
      "Epoch 7/10\n",
      "14/14 [==============================] - 185s 13s/step - loss: 1.1965 - accuracy: 0.8351 - val_loss: 1.3311 - val_accuracy: 0.8346\n",
      "Epoch 8/10\n",
      "14/14 [==============================] - 194s 14s/step - loss: 1.1768 - accuracy: 0.8355 - val_loss: 1.3123 - val_accuracy: 0.8325\n",
      "Epoch 9/10\n",
      "14/14 [==============================] - 197s 14s/step - loss: 1.1564 - accuracy: 0.8356 - val_loss: 1.3119 - val_accuracy: 0.8355\n",
      "Epoch 10/10\n",
      "14/14 [==============================] - 174s 12s/step - loss: 1.1419 - accuracy: 0.8361 - val_loss: 1.3108 - val_accuracy: 0.8358\n"
     ]
    }
   ],
   "source": [
    "model.compile(optimizer=\"rmsprop\", loss=\"sparse_categorical_crossentropy\", metrics=[\"accuracy\"] ) \n",
    "history = model.fit( \n",
    "                    [en_in_data, dec_in_data],\n",
    "                    dec_tr_data, \n",
    "                    batch_size=512, \n",
    "                    epochs=10, \n",
    "                    validation_split=0.1,)"
   ]
  },
  {
   "cell_type": "code",
   "execution_count": 21,
   "id": "cb743b4f",
   "metadata": {
    "execution": {
     "iopub.execute_input": "2022-01-23T09:08:23.346249Z",
     "iopub.status.busy": "2022-01-23T09:08:23.345367Z",
     "iopub.status.idle": "2022-01-23T09:08:23.643465Z",
     "shell.execute_reply": "2022-01-23T09:08:23.642999Z",
     "shell.execute_reply.started": "2022-01-23T09:01:55.61573Z"
    },
    "papermill": {
     "duration": 0.38951,
     "end_time": "2022-01-23T09:08:23.643627",
     "exception": false,
     "start_time": "2022-01-23T09:08:23.254117",
     "status": "completed"
    },
    "tags": []
   },
   "outputs": [
    {
     "name": "stdout",
     "output_type": "stream",
     "text": [
      "Model Saved!\n"
     ]
    }
   ],
   "source": [
    "# save model\n",
    "model.save('Text_Summarizer.h5')\n",
    "print('Model Saved!')"
   ]
  },
  {
   "cell_type": "code",
   "execution_count": 22,
   "id": "26c087cd",
   "metadata": {
    "execution": {
     "iopub.execute_input": "2022-01-23T09:08:23.807847Z",
     "iopub.status.busy": "2022-01-23T09:08:23.807185Z",
     "iopub.status.idle": "2022-01-23T09:08:24.005335Z",
     "shell.execute_reply": "2022-01-23T09:08:24.005782Z",
     "shell.execute_reply.started": "2022-01-23T09:01:55.987601Z"
    },
    "papermill": {
     "duration": 0.284175,
     "end_time": "2022-01-23T09:08:24.005938",
     "exception": false,
     "start_time": "2022-01-23T09:08:23.721763",
     "status": "completed"
    },
    "tags": []
   },
   "outputs": [
    {
     "data": {
      "image/png": "[encoded data removed]",
      "text/plain": [
       "<Figure size 432x288 with 1 Axes>"
      ]
     },
     "metadata": {
      "needs_background": "light"
     },
     "output_type": "display_data"
    }
   ],
   "source": [
    "from matplotlib import pyplot\n",
    "pyplot.plot(history.history['loss'], label='train')\n",
    "pyplot.plot(history.history['val_loss'], label='test')\n",
    "pyplot.legend()\n",
    "pyplot.show()"
   ]
  },
  {
   "cell_type": "code",
   "execution_count": 23,
   "id": "681fb3f3",
   "metadata": {
    "execution": {
     "iopub.execute_input": "2022-01-23T09:08:24.169229Z",
     "iopub.status.busy": "2022-01-23T09:08:24.168342Z",
     "iopub.status.idle": "2022-01-23T09:08:24.170615Z",
     "shell.execute_reply": "2022-01-23T09:08:24.170142Z",
     "shell.execute_reply.started": "2022-01-23T09:01:56.172036Z"
    },
    "papermill": {
     "duration": 0.084697,
     "end_time": "2022-01-23T09:08:24.170729",
     "exception": false,
     "start_time": "2022-01-23T09:08:24.086032",
     "status": "completed"
    },
    "tags": []
   },
   "outputs": [],
   "source": [
    "max_text_len=30\n",
    "max_summary_len=8"
   ]
  },
  {
   "cell_type": "markdown",
   "id": "0194c64f",
   "metadata": {
    "papermill": {
     "duration": 0.078114,
     "end_time": "2022-01-23T09:08:24.327289",
     "exception": false,
     "start_time": "2022-01-23T09:08:24.249175",
     "status": "completed"
    },
    "tags": []
   },
   "source": [
    "### Next, let’s build the dictionary to convert the index to word for target and source vocabulary:"
   ]
  },
  {
   "cell_type": "markdown",
   "id": "df0f6cb0",
   "metadata": {
    "papermill": {
     "duration": 0.077936,
     "end_time": "2022-01-23T09:08:24.483144",
     "exception": false,
     "start_time": "2022-01-23T09:08:24.405208",
     "status": "completed"
    },
    "tags": []
   },
   "source": [
    "# Inference Model"
   ]
  },
  {
   "cell_type": "markdown",
   "id": "21f40b5c",
   "metadata": {
    "papermill": {
     "duration": 0.077971,
     "end_time": "2022-01-23T09:08:24.63978",
     "exception": false,
     "start_time": "2022-01-23T09:08:24.561809",
     "status": "completed"
    },
    "tags": []
   },
   "source": [
    "### Encoder Inference:"
   ]
  },
  {
   "cell_type": "markdown",
   "id": "60f6ebfd",
   "metadata": {
    "papermill": {
     "duration": 0.077866,
     "end_time": "2022-01-23T09:08:24.79602",
     "exception": false,
     "start_time": "2022-01-23T09:08:24.718154",
     "status": "completed"
    },
    "tags": []
   },
   "source": []
  },
  {
   "cell_type": "code",
   "execution_count": 24,
   "id": "51d83c74",
   "metadata": {
    "execution": {
     "iopub.execute_input": "2022-01-23T09:08:24.973511Z",
     "iopub.status.busy": "2022-01-23T09:08:24.957341Z",
     "iopub.status.idle": "2022-01-23T09:08:26.342405Z",
     "shell.execute_reply": "2022-01-23T09:08:26.341876Z",
     "shell.execute_reply.started": "2022-01-23T09:01:56.177127Z"
    },
    "papermill": {
     "duration": 1.468704,
     "end_time": "2022-01-23T09:08:26.342527",
     "exception": false,
     "start_time": "2022-01-23T09:08:24.873823",
     "status": "completed"
    },
    "tags": []
   },
   "outputs": [],
   "source": [
    "# encoder inference\n",
    "latent_dim=500\n",
    "#/content/gdrive/MyDrive/Text Summarizer/\n",
    "#load the model\n",
    "model = models.load_model(\"Text_Summarizer.h5\")\n",
    " \n",
    "#construct encoder model from the output of 6 layer i.e.last LSTM layer\n",
    "en_outputs,state_h_enc,state_c_enc = model.layers[6].output\n",
    "en_states=[state_h_enc,state_c_enc]\n",
    "#add input and state from the layer.\n",
    "en_model = Model(model.input[0],[en_outputs]+en_states)"
   ]
  },
  {
   "cell_type": "markdown",
   "id": "ab86de30",
   "metadata": {
    "papermill": {
     "duration": 0.077978,
     "end_time": "2022-01-23T09:08:26.498975",
     "exception": false,
     "start_time": "2022-01-23T09:08:26.420997",
     "status": "completed"
    },
    "tags": []
   },
   "source": [
    "### Decoder Inference:"
   ]
  },
  {
   "cell_type": "code",
   "execution_count": 25,
   "id": "667d6ef4",
   "metadata": {
    "execution": {
     "iopub.execute_input": "2022-01-23T09:08:26.728229Z",
     "iopub.status.busy": "2022-01-23T09:08:26.726942Z",
     "iopub.status.idle": "2022-01-23T09:08:27.000214Z",
     "shell.execute_reply": "2022-01-23T09:08:27.000951Z",
     "shell.execute_reply.started": "2022-01-23T09:01:57.511559Z"
    },
    "papermill": {
     "duration": 0.423397,
     "end_time": "2022-01-23T09:08:27.001154",
     "exception": false,
     "start_time": "2022-01-23T09:08:26.577757",
     "status": "completed"
    },
    "tags": []
   },
   "outputs": [],
   "source": [
    "# decoder inference\n",
    "#create Input object for hidden and cell state for decoder\n",
    "#shape of layer with hidden or latent dimension\n",
    "dec_state_input_h = Input(shape=(latent_dim,))\n",
    "dec_state_input_c = Input(shape=(latent_dim,))\n",
    "dec_hidden_state_input = Input(shape=(max_in_len,latent_dim))\n",
    " \n",
    "# Get the embeddings and input layer from the model\n",
    "dec_inputs = model.input[1]\n",
    "dec_emb_layer = model.layers[5]\n",
    "dec_lstm = model.layers[7]\n",
    "dec_embedding= dec_emb_layer(dec_inputs)\n",
    " \n",
    "#add input and initialize LSTM layer with encoder LSTM states.\n",
    "dec_outputs2, state_h2, state_c2 = dec_lstm(dec_embedding, initial_state=[dec_state_input_h,dec_state_input_c])"
   ]
  },
  {
   "cell_type": "markdown",
   "id": "69cf588e",
   "metadata": {
    "papermill": {
     "duration": 0.097083,
     "end_time": "2022-01-23T09:08:27.231128",
     "exception": false,
     "start_time": "2022-01-23T09:08:27.134045",
     "status": "completed"
    },
    "tags": []
   },
   "source": [
    "### Attention Inference:"
   ]
  },
  {
   "cell_type": "code",
   "execution_count": 26,
   "id": "d1ea4149",
   "metadata": {
    "execution": {
     "iopub.execute_input": "2022-01-23T09:08:27.393313Z",
     "iopub.status.busy": "2022-01-23T09:08:27.392473Z",
     "iopub.status.idle": "2022-01-23T09:08:27.401183Z",
     "shell.execute_reply": "2022-01-23T09:08:27.401557Z",
     "shell.execute_reply.started": "2022-01-23T09:01:57.699132Z"
    },
    "papermill": {
     "duration": 0.092125,
     "end_time": "2022-01-23T09:08:27.401724",
     "exception": false,
     "start_time": "2022-01-23T09:08:27.309599",
     "status": "completed"
    },
    "tags": []
   },
   "outputs": [],
   "source": [
    "#Attention layer\n",
    "attention = model.layers[8]\n",
    "attn_out2 = attention([dec_outputs2,dec_hidden_state_input])\n",
    " \n",
    "merge2 = Concatenate(axis=-1)([dec_outputs2, attn_out2])"
   ]
  },
  {
   "cell_type": "markdown",
   "id": "63bc09bd",
   "metadata": {
    "papermill": {
     "duration": 0.078653,
     "end_time": "2022-01-23T09:08:27.55891",
     "exception": false,
     "start_time": "2022-01-23T09:08:27.480257",
     "status": "completed"
    },
    "tags": []
   },
   "source": [
    "### Dense layer"
   ]
  },
  {
   "cell_type": "code",
   "execution_count": 27,
   "id": "7ac2ec52",
   "metadata": {
    "execution": {
     "iopub.execute_input": "2022-01-23T09:08:27.721569Z",
     "iopub.status.busy": "2022-01-23T09:08:27.721041Z",
     "iopub.status.idle": "2022-01-23T09:08:27.738991Z",
     "shell.execute_reply": "2022-01-23T09:08:27.739693Z",
     "shell.execute_reply.started": "2022-01-23T09:01:57.713533Z"
    },
    "papermill": {
     "duration": 0.102701,
     "end_time": "2022-01-23T09:08:27.739829",
     "exception": false,
     "start_time": "2022-01-23T09:08:27.637128",
     "status": "completed"
    },
    "tags": []
   },
   "outputs": [],
   "source": [
    "#Dense layer\n",
    "dec_dense = model.layers[10]\n",
    "dec_outputs2 = dec_dense(merge2)\n",
    " \n",
    "# Finally define the Model Class\n",
    "dec_model = Model(\n",
    "[dec_inputs] + [dec_hidden_state_input,dec_state_input_h,dec_state_input_c],\n",
    "[dec_outputs2] + [state_h2, state_c2])"
   ]
  },
  {
   "cell_type": "code",
   "execution_count": 28,
   "id": "1ce8449a",
   "metadata": {
    "execution": {
     "iopub.execute_input": "2022-01-23T09:08:27.90024Z",
     "iopub.status.busy": "2022-01-23T09:08:27.899482Z",
     "iopub.status.idle": "2022-01-23T09:08:27.902034Z",
     "shell.execute_reply": "2022-01-23T09:08:27.901545Z",
     "shell.execute_reply.started": "2022-01-23T09:01:57.737626Z"
    },
    "papermill": {
     "duration": 0.083912,
     "end_time": "2022-01-23T09:08:27.90214",
     "exception": false,
     "start_time": "2022-01-23T09:08:27.818228",
     "status": "completed"
    },
    "tags": []
   },
   "outputs": [],
   "source": [
    "#create a dictionary with a key as index and value as words.\n",
    "reverse_target_word_index = tr_tokenizer.index_word\n",
    "reverse_source_word_index = in_tokenizer.index_word\n",
    "target_word_index = tr_tokenizer.word_index"
   ]
  },
  {
   "cell_type": "code",
   "execution_count": 29,
   "id": "42274215",
   "metadata": {
    "execution": {
     "iopub.execute_input": "2022-01-23T09:08:28.068001Z",
     "iopub.status.busy": "2022-01-23T09:08:28.067256Z",
     "iopub.status.idle": "2022-01-23T09:08:28.069722Z",
     "shell.execute_reply": "2022-01-23T09:08:28.069285Z",
     "shell.execute_reply.started": "2022-01-23T09:01:57.743664Z"
    },
    "papermill": {
     "duration": 0.08998,
     "end_time": "2022-01-23T09:08:28.06984",
     "exception": false,
     "start_time": "2022-01-23T09:08:27.97986",
     "status": "completed"
    },
    "tags": []
   },
   "outputs": [],
   "source": [
    "def decode_sequence(input_seq):\n",
    "    # get the encoder output and states by passing the input sequence\n",
    "    en_out, en_h, en_c = en_model.predict(input_seq)\n",
    "\n",
    "    # target sequence with inital word as 'sos'\n",
    "    target_seq = np.zeros((1, 1))\n",
    "    target_seq[0, 0] = target_word_index['sos']\n",
    "\n",
    "    # if the iteration reaches the end of text than it will be stop the iteration\n",
    "    stop_condition = False\n",
    "    # append every predicted word in decoded sentence\n",
    "    decoded_sentence = \"\"\n",
    "    while not stop_condition:\n",
    "        # get predicted output, hidden and cell state.\n",
    "        output_words, dec_h, dec_c = dec_model.predict([target_seq] + [en_out, en_h, en_c])\n",
    "\n",
    "        # get the index and from the dictionary get the word for that index.\n",
    "        word_index = np.argmax(output_words[0, -1, :])\n",
    "        text_word = reverse_target_word_index[word_index]\n",
    "        decoded_sentence += text_word + \" \"\n",
    "\n",
    "        # Exit condition: either hit max length\n",
    "        # or find a stop word or last word.\n",
    "        if text_word == \"eos\" or len(decoded_sentence) > max_tr_len:\n",
    "            stop_condition = True\n",
    "\n",
    "        # update target sequence to the current word index.\n",
    "        target_seq = np.zeros((1, 1))\n",
    "        target_seq[0, 0] = word_index\n",
    "        en_h, en_c = dec_h, dec_c\n",
    "\n",
    "    # return the deocded sentence\n",
    "    return decoded_sentence"
   ]
  },
  {
   "cell_type": "code",
   "execution_count": 30,
   "id": "8c3f8e35",
   "metadata": {
    "execution": {
     "iopub.execute_input": "2022-01-23T09:08:28.236952Z",
     "iopub.status.busy": "2022-01-23T09:08:28.232396Z",
     "iopub.status.idle": "2022-01-23T09:08:29.434508Z",
     "shell.execute_reply": "2022-01-23T09:08:29.4341Z",
     "shell.execute_reply.started": "2022-01-23T09:05:54.903829Z"
    },
    "papermill": {
     "duration": 1.286996,
     "end_time": "2022-01-23T09:08:29.434666",
     "exception": false,
     "start_time": "2022-01-23T09:08:28.14767",
     "status": "completed"
    },
    "tags": []
   },
   "outputs": [
    {
     "name": "stdout",
     "output_type": "stream",
     "text": [
      "Review : Both the Google platforms provide a great cloud environment for any ML work to be deployed to. The features of them both are equally competent. Notebooks can be downloaded and later uploaded between the two. However, Colab comparatively provides greater flexibility to adjust the batch sizes.Saving or storing of models is easier on Colab since it allows them to be saved and stored to Google Drive. Also if one is using TensorFlow, using TPUs would be preferred on Colab. It is also faster than Kaggle. For a use case demanding more power and longer running processes, Colab is preferred.\n",
      "\n",
      "Predicted summary: great  \n",
      "\n",
      "\n"
     ]
    },
    {
     "name": "stderr",
     "output_type": "stream",
     "text": [
      "2022-01-23 09:08:29.283755: W tensorflow/core/grappler/costs/op_level_cost_estimator.cc:689] Error in PredictCost() for the op: op: \"Softmax\" attr { key: \"T\" value { type: DT_FLOAT } } inputs { dtype: DT_FLOAT shape { unknown_rank: true } } device { type: \"GPU\" vendor: \"NVIDIA\" model: \"Tesla P100-PCIE-16GB\" frequency: 1328 num_cores: 56 environment { key: \"architecture\" value: \"6.0\" } environment { key: \"cuda\" value: \"11000\" } environment { key: \"cudnn\" value: \"8005\" } num_registers: 65536 l1_cache_size: 24576 l2_cache_size: 4194304 shared_memory_size_per_multiprocessor: 65536 memory_size: 16152002560 bandwidth: 732160000 } outputs { dtype: DT_FLOAT shape { unknown_rank: true } }\n"
     ]
    }
   ],
   "source": [
    "# inp_review = input(\"Enter : \")\n",
    "inp_review = \"Both the Google platforms provide a great cloud environment for any ML work to be deployed to. The features of them both are equally competent. Notebooks can be downloaded and later uploaded between the two. However, Colab comparatively provides greater flexibility to adjust the batch sizes.Saving or storing of models is easier on Colab since it allows them to be saved and stored to Google Drive. Also if one is using TensorFlow, using TPUs would be preferred on Colab. It is also faster than Kaggle. For a use case demanding more power and longer running processes, Colab is preferred.\"\n",
    "print(\"Review :\", inp_review)\n",
    "\n",
    "inp_review = clean(inp_review, \"inputs\")\n",
    "inp_review = ' '.join(inp_review)\n",
    "inp_x = in_tokenizer.texts_to_sequences([inp_review])\n",
    "inp_x = pad_sequences(inp_x, maxlen=max_in_len, padding='post')\n",
    "\n",
    "summary = decode_sequence(inp_x.reshape(1, max_in_len))\n",
    "if 'eos' in summary:\n",
    "    summary = summary.replace('eos', '')\n",
    "print(\"\\nPredicted summary:\", summary);\n",
    "print(\"\\n\")"
   ]
  },
  {
   "cell_type": "code",
   "execution_count": null,
   "id": "451b53ce",
   "metadata": {
    "papermill": {
     "duration": 0.079295,
     "end_time": "2022-01-23T09:08:29.593421",
     "exception": false,
     "start_time": "2022-01-23T09:08:29.514126",
     "status": "completed"
    },
    "tags": []
   },
   "outputs": [],
   "source": []
  }
 ],
 "metadata": {
  "kernelspec": {
   "display_name": "Python 3",
   "language": "python",
   "name": "python3"
  },
  "language_info": {
   "codemirror_mode": {
    "name": "ipython",
    "version": 3
   },
   "file_extension": ".py",
   "mimetype": "text/x-python",
   "name": "python",
   "nbconvert_exporter": "python",
   "pygments_lexer": "ipython3",
   "version": "3.6.8"
  },
  "papermill": {
   "default_parameters": {},
   "duration": 104.438562,
   "end_time": "2022-01-23T09:08:32.548225",
   "environment_variables": {},
   "exception": null,
   "input_path": "__notebook__.ipynb",
   "output_path": "__notebook__.ipynb",
   "parameters": {},
   "start_time": "2022-01-23T09:06:48.109663",
   "version": "2.3.3"
  }
 },
 "nbformat": 4,
 "nbformat_minor": 5
}
